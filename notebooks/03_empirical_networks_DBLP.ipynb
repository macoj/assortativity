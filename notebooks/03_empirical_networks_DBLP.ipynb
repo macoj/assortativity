{
 "cells": [
  {
   "cell_type": "code",
   "execution_count": 1,
   "metadata": {},
   "outputs": [],
   "source": [
    "import os; os.chdir(\"../src\")"
   ]
  },
  {
   "cell_type": "code",
   "execution_count": 2,
   "metadata": {},
   "outputs": [],
   "source": [
    "import matplotlib.pyplot as plt\n",
    "import numpy as np\n",
    "import networkx as nx\n",
    "import pandas as pd"
   ]
  },
  {
   "cell_type": "code",
   "execution_count": 3,
   "metadata": {},
   "outputs": [],
   "source": [
    "import assortativity"
   ]
  },
  {
   "cell_type": "code",
   "execution_count": 4,
   "metadata": {},
   "outputs": [],
   "source": [
    "def minority_fraction(nx_graph, attribute=\"type\"): \n",
    "    nodes_group = [nx_graph.nodes[n][attribute] for n in nx_graph.nodes]\n",
    "    _, counts = np.unique(nodes_group, return_counts=True)\n",
    "    final_count = counts*1.0\n",
    "    final_count /= final_count.sum()\n",
    "    return sorted(final_count)[0]"
   ]
  },
  {
   "cell_type": "code",
   "execution_count": 5,
   "metadata": {},
   "outputs": [],
   "source": [
    "def group_edge_count(nx_graph, attribute=\"type\"):\n",
    "    nodes_group = [nx_graph.nodes[n][attribute] for n in nx_graph.nodes]\n",
    "    unique, counts = np.unique(nodes_group, return_counts=True)\n",
    "    group_map = dict([(unique[i], i) for i in range(len(unique))])\n",
    "\n",
    "    absolute_mixing_matrix = nx.attribute_mixing_matrix(nx_graph, attribute, normalized=False, mapping=group_map)\n",
    "    absolute_mixing_matrix /= 2\n",
    "    return absolute_mixing_matrix[0, 0], absolute_mixing_matrix[0, 1] + absolute_mixing_matrix[1, 0], absolute_mixing_matrix[1, 1]"
   ]
  },
  {
   "cell_type": "markdown",
   "metadata": {},
   "source": [
    "# Load data"
   ]
  },
  {
   "cell_type": "code",
   "execution_count": 6,
   "metadata": {},
   "outputs": [],
   "source": [
    "a_ij = pd.read_csv(\"../notebooks/data/DBLP/co_authorship_1980_1990_2000_2010.txt\", header=None)\n",
    "meta_data = pd.read_csv(\"../notebooks/data/DBLP/name_gender_1970_2016.csv\", header=None)"
   ]
  },
  {
   "cell_type": "code",
   "execution_count": 7,
   "metadata": {},
   "outputs": [
    {
     "data": {
      "text/plain": [
       "array([2010, 2000, 1990, 1980])"
      ]
     },
     "execution_count": 7,
     "metadata": {},
     "output_type": "execute_result"
    }
   ],
   "source": [
    "a_ij[0].unique()"
   ]
  },
  {
   "cell_type": "markdown",
   "metadata": {},
   "source": [
    "## Create network method"
   ]
  },
  {
   "cell_type": "code",
   "execution_count": 8,
   "metadata": {},
   "outputs": [],
   "source": [
    "def create_network(a_ij, meta_data, year):\n",
    "    a_ij = a_ij[a_ij[0] == year].copy()\n",
    "    meta_data = meta_data.copy()\n",
    "    a_ij.drop_duplicates(inplace=True)\n",
    "    g = nx.Graph()\n",
    "    for k, r in a_ij.iterrows():\n",
    "        g.add_edge(r[1], r[2])\n",
    "    meta_data.drop_duplicates(inplace=True)\n",
    "    meta_data.set_index(0, verify_integrity=True, inplace=True)\n",
    "    nodes = list(g.nodes)\n",
    "    gender = meta_data.reindex(nodes)\n",
    "    remove = []\n",
    "    for n, g_i in zip(nodes, gender[1].values):\n",
    "        if g_i in [\"m\", \"f\"]:\n",
    "            g.nodes[n][\"type\"] = 0 if g_i == \"f\" else 1\n",
    "        else:\n",
    "            remove.append(n)\n",
    "    g.remove_nodes_from(remove)\n",
    "    return g"
   ]
  },
  {
   "cell_type": "markdown",
   "metadata": {},
   "source": [
    "# Statistics "
   ]
  },
  {
   "cell_type": "code",
   "execution_count": 9,
   "metadata": {},
   "outputs": [
    {
     "name": "stdout",
     "output_type": "stream",
     "text": [
      "    170984 & 0.21 &     322052 &      17468 &      91738 &     212846 & 0.10 & 0.14 \n"
     ]
    }
   ],
   "source": [
    "g = create_network(a_ij, meta_data, 2010)\n",
    "r, r_adj = assortativity.nx_assortativity(g, \"type\"), assortativity.nx_adjusted_assortativity(g, \"type\")\n",
    "N, f_0, E = g.number_of_nodes(), minority_fraction(g), g.number_of_edges()\n",
    "E_00, E_01, E_11 = group_edge_count(g)\n",
    "\n",
    "print(\"%10d & %1.2f & %10d & %10d & %10d & %10d & %1.2f & %1.2f \" % (N, f_0, E, E_00, E_01, E_11, r, r_adj))"
   ]
  },
  {
   "cell_type": "code",
   "execution_count": 10,
   "metadata": {},
   "outputs": [
    {
     "name": "stdout",
     "output_type": "stream",
     "text": [
      "     54966 & 0.18 &      72369 &       3123 &      18101 &      51145 & 0.11 & 0.16 \n"
     ]
    }
   ],
   "source": [
    "g = create_network(a_ij, meta_data, 2000)\n",
    "r, r_adj = assortativity.nx_assortativity(g, \"type\"), assortativity.nx_adjusted_assortativity(g, \"type\")\n",
    "N, f_0, E = g.number_of_nodes(), minority_fraction(g), g.number_of_edges()\n",
    "E_00, E_01, E_11 = group_edge_count(g)\n",
    "\n",
    "print(\"%10d & %1.2f & %10d & %10d & %10d & %10d & %1.2f & %1.2f \" % (N, f_0, E, E_00, E_01, E_11, r, r_adj))"
   ]
  },
  {
   "cell_type": "code",
   "execution_count": 11,
   "metadata": {},
   "outputs": [
    {
     "name": "stdout",
     "output_type": "stream",
     "text": [
      "     13764 & 0.15 &      12178 &        384 &       2701 &       9093 & 0.09 & 0.16 \n"
     ]
    }
   ],
   "source": [
    "g = create_network(a_ij, meta_data, 1990)\n",
    "r, r_adj = assortativity.nx_assortativity(g, \"type\"), assortativity.nx_adjusted_assortativity(g, \"type\")\n",
    "N, f_0, E = g.number_of_nodes(), minority_fraction(g), g.number_of_edges()\n",
    "E_00, E_01, E_11 = group_edge_count(g)\n",
    "\n",
    "print(\"%10d & %1.2f & %10d & %10d & %10d & %10d & %1.2f & %1.2f \" % (N, f_0, E, E_00, E_01, E_11, r, r_adj))"
   ]
  },
  {
   "cell_type": "code",
   "execution_count": 12,
   "metadata": {},
   "outputs": [
    {
     "name": "stdout",
     "output_type": "stream",
     "text": [
      "      2664 & 0.11 &       1765 &         24 &        274 &       1467 & 0.06 & 0.16 \n"
     ]
    }
   ],
   "source": [
    "g = create_network(a_ij, meta_data, 1980)\n",
    "r, r_adj = assortativity.nx_assortativity(g, \"type\"), assortativity.nx_adjusted_assortativity(g, \"type\")\n",
    "N, f_0, E = g.number_of_nodes(), minority_fraction(g), g.number_of_edges()\n",
    "E_00, E_01, E_11 = group_edge_count(g)\n",
    "\n",
    "print(\"%10d & %1.2f & %10d & %10d & %10d & %10d & %1.2f & %1.2f \" % (N, f_0, E, E_00, E_01, E_11, r, r_adj))"
   ]
  }
 ],
 "metadata": {
  "kernelspec": {
   "display_name": "Python 3 (ipykernel)",
   "language": "python",
   "name": "python3"
  },
  "language_info": {
   "codemirror_mode": {
    "name": "ipython",
    "version": 3
   },
   "file_extension": ".py",
   "mimetype": "text/x-python",
   "name": "python",
   "nbconvert_exporter": "python",
   "pygments_lexer": "ipython3",
   "version": "3.10.8"
  }
 },
 "nbformat": 4,
 "nbformat_minor": 2
}
